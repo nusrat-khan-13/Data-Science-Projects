{
 "cells": [
  {
   "cell_type": "code",
   "execution_count": 37,
   "id": "56d16dfa-eeda-466a-8e28-b9ac628bfecc",
   "metadata": {},
   "outputs": [],
   "source": [
    "from selenium import webdriver\n",
    "from selenium.webdriver.common.by import By\n",
    "from selenium.webdriver.chrome.service import Service\n",
    "from webdriver_manager.chrome import ChromeDriverManager\n"
   ]
  },
  {
   "cell_type": "code",
   "execution_count": 38,
   "id": "d74e14e3-5710-488c-9087-15da5869b053",
   "metadata": {},
   "outputs": [
    {
     "name": "stdout",
     "output_type": "stream",
     "text": [
      "Requirement already satisfied: webdriver_manager in c:\\users\\nusrat fatima khan\\anaconda3\\lib\\site-packages (4.0.1)\n",
      "Requirement already satisfied: requests in c:\\users\\nusrat fatima khan\\anaconda3\\lib\\site-packages (from webdriver_manager) (2.31.0)\n",
      "Requirement already satisfied: python-dotenv in c:\\users\\nusrat fatima khan\\anaconda3\\lib\\site-packages (from webdriver_manager) (0.21.0)\n",
      "Requirement already satisfied: packaging in c:\\users\\nusrat fatima khan\\anaconda3\\lib\\site-packages (from webdriver_manager) (23.1)\n",
      "Requirement already satisfied: charset-normalizer<4,>=2 in c:\\users\\nusrat fatima khan\\anaconda3\\lib\\site-packages (from requests->webdriver_manager) (2.0.4)\n",
      "Requirement already satisfied: idna<4,>=2.5 in c:\\users\\nusrat fatima khan\\anaconda3\\lib\\site-packages (from requests->webdriver_manager) (3.4)\n",
      "Requirement already satisfied: urllib3<3,>=1.21.1 in c:\\users\\nusrat fatima khan\\anaconda3\\lib\\site-packages (from requests->webdriver_manager) (2.0.7)\n",
      "Requirement already satisfied: certifi>=2017.4.17 in c:\\users\\nusrat fatima khan\\anaconda3\\lib\\site-packages (from requests->webdriver_manager) (2024.2.2)\n",
      "Note: you may need to restart the kernel to use updated packages.\n"
     ]
    }
   ],
   "source": [
    "pip install webdriver_manager\n"
   ]
  },
  {
   "cell_type": "code",
   "execution_count": 39,
   "id": "988c9925-eb2c-429f-83ef-04eb99a6d9a2",
   "metadata": {},
   "outputs": [],
   "source": [
    "driver=webdriver.Chrome(service=Service(ChromeDriverManager().install()))"
   ]
  },
  {
   "cell_type": "code",
   "execution_count": 40,
   "id": "1bf9b06a-9373-4d2f-9fdc-4e51eec9b9af",
   "metadata": {},
   "outputs": [],
   "source": [
    "driver.get(\"https://www.amazon.in/\")"
   ]
  },
  {
   "cell_type": "code",
   "execution_count": 41,
   "id": "5dfe0958-6784-4bf4-94e5-91fb6acc7c6a",
   "metadata": {},
   "outputs": [],
   "source": [
    "search_box=driver.find_element(By.ID,\"twotabsearchtextbox\")\n",
    "search_box.send_keys(\"Mobiles\")\n",
    "search_box.submit()"
   ]
  },
  {
   "cell_type": "code",
   "execution_count": 42,
   "id": "0243fb85-7a1c-4aac-9cc5-6294fc11ed94",
   "metadata": {},
   "outputs": [],
   "source": [
    "driver.implicitly_wait(5)"
   ]
  },
  {
   "cell_type": "code",
   "execution_count": 43,
   "id": "e3da7171-04f8-40d2-b23b-c7c23bfb0e31",
   "metadata": {},
   "outputs": [],
   "source": [
    "products=driver.find_elements(By.XPATH,'//div[@data-component-type=\"s-search-result\"]')"
   ]
  },
  {
   "cell_type": "code",
   "execution_count": 44,
   "id": "fe87266c-5e2f-400e-9062-db568cb506b2",
   "metadata": {},
   "outputs": [
    {
     "name": "stdout",
     "output_type": "stream",
     "text": [
      "Title: Apple iPhone 15 (128 GB) - Black\n",
      "Price: <selenium.webdriver.remote.webelement.WebElement (session=\"29f2ff7d888aff0b89aff25c2fe8a3f0\", element=\"f.6F647086FBEF57F3E6DD4DDFF7F0934A.d.C9D41F219984081C8AC438538C5C8A96.e.324\")>\n",
      "\n",
      "Title: iQOO Z7 Pro 5G (Blue Lagoon, 8GB RAM, 256GB Storage) | 3D Curved AMOLED Display | 4nm MediaTek Dimesity 7200 5G Processor | 64MP Aura Light OIS Camera | Segment's Slimmest & Lightest Smartphone\n",
      "Price: <selenium.webdriver.remote.webelement.WebElement (session=\"29f2ff7d888aff0b89aff25c2fe8a3f0\", element=\"f.6F647086FBEF57F3E6DD4DDFF7F0934A.d.C9D41F219984081C8AC438538C5C8A96.e.326\")>\n",
      "\n",
      "Title: Redmi 13C (Stardust Black, 6GB RAM, 128GB Storage) | Powered by 4G MediaTek Helio G85 | 90Hz Display | 50MP AI Triple Camera\n",
      "Price: <selenium.webdriver.remote.webelement.WebElement (session=\"29f2ff7d888aff0b89aff25c2fe8a3f0\", element=\"f.6F647086FBEF57F3E6DD4DDFF7F0934A.d.C9D41F219984081C8AC438538C5C8A96.e.328\")>\n",
      "\n",
      "Title: POCO C65 (Pastel Green 4GB RAM 128GB Storage)\n",
      "Price: <selenium.webdriver.remote.webelement.WebElement (session=\"29f2ff7d888aff0b89aff25c2fe8a3f0\", element=\"f.6F647086FBEF57F3E6DD4DDFF7F0934A.d.C9D41F219984081C8AC438538C5C8A96.e.330\")>\n",
      "\n",
      "Title: realme NARZO N65 5G (Amber Gold 6GB RAM, 128GB Storage) India's 1st D6300 5G Chipset | Ultra Slim Design | 120Hz Eye Comfort Display | 50MP AI Camera| Charger in The box\n",
      "Price: <selenium.webdriver.remote.webelement.WebElement (session=\"29f2ff7d888aff0b89aff25c2fe8a3f0\", element=\"f.6F647086FBEF57F3E6DD4DDFF7F0934A.d.C9D41F219984081C8AC438538C5C8A96.e.332\")>\n",
      "\n",
      "Title: Redmi 13C (Starshine Green, 4GB RAM, 128GB Storage) | Powered by 4G MediaTek Helio G85 | 90Hz Display | 50MP AI Triple Camera\n",
      "Price: <selenium.webdriver.remote.webelement.WebElement (session=\"29f2ff7d888aff0b89aff25c2fe8a3f0\", element=\"f.6F647086FBEF57F3E6DD4DDFF7F0934A.d.C9D41F219984081C8AC438538C5C8A96.e.334\")>\n",
      "\n",
      "Title: POCO C65 (Pastel Blue 6GB RAM 128GB Storage)\n",
      "Price: <selenium.webdriver.remote.webelement.WebElement (session=\"29f2ff7d888aff0b89aff25c2fe8a3f0\", element=\"f.6F647086FBEF57F3E6DD4DDFF7F0934A.d.C9D41F219984081C8AC438538C5C8A96.e.336\")>\n",
      "\n",
      "Title: POCO C65 (Pastel Blue 4GB RAM 128GB Storage)\n",
      "Price: <selenium.webdriver.remote.webelement.WebElement (session=\"29f2ff7d888aff0b89aff25c2fe8a3f0\", element=\"f.6F647086FBEF57F3E6DD4DDFF7F0934A.d.C9D41F219984081C8AC438538C5C8A96.e.339\")>\n",
      "\n",
      "Title: realme NARZO 70x 5G (Ice Blue, 6GB RAM,128GB Storage)|120Hz Ultra Smooth Display|Dimensity 6100+ 6nm 5G|50MP AI Camera|45W Charger in The Box\n",
      "Price: <selenium.webdriver.remote.webelement.WebElement (session=\"29f2ff7d888aff0b89aff25c2fe8a3f0\", element=\"f.6F647086FBEF57F3E6DD4DDFF7F0934A.d.C9D41F219984081C8AC438538C5C8A96.e.341\")>\n",
      "\n",
      "Title: POCO C65 (Matte Black 4GB RAM 128GB Storage)\n",
      "Price: <selenium.webdriver.remote.webelement.WebElement (session=\"29f2ff7d888aff0b89aff25c2fe8a3f0\", element=\"f.6F647086FBEF57F3E6DD4DDFF7F0934A.d.C9D41F219984081C8AC438538C5C8A96.e.343\")>\n",
      "\n",
      "Title: Redmi Note 13 5G (Stealth Black, 6GB RAM, 128GB Storage) | 5G Ready | 120Hz Bezel-less AMOLED | 7.mm Slimmest Note Ever | 108MP Pro-grade Camera\n",
      "Price: <selenium.webdriver.remote.webelement.WebElement (session=\"29f2ff7d888aff0b89aff25c2fe8a3f0\", element=\"f.6F647086FBEF57F3E6DD4DDFF7F0934A.d.C9D41F219984081C8AC438538C5C8A96.e.345\")>\n",
      "\n",
      "Title: Apple iPhone 14 Plus (128 GB) - Midnight\n",
      "Price: <selenium.webdriver.remote.webelement.WebElement (session=\"29f2ff7d888aff0b89aff25c2fe8a3f0\", element=\"f.6F647086FBEF57F3E6DD4DDFF7F0934A.d.C9D41F219984081C8AC438538C5C8A96.e.347\")>\n",
      "\n",
      "Title: Redmi 13C 5G (Startrail Silver, 4GB RAM, 128GB Storage) | MediaTek Dimensity 6100+ 5G | 90Hz Display\n",
      "Price: <selenium.webdriver.remote.webelement.WebElement (session=\"29f2ff7d888aff0b89aff25c2fe8a3f0\", element=\"f.6F647086FBEF57F3E6DD4DDFF7F0934A.d.C9D41F219984081C8AC438538C5C8A96.e.349\")>\n",
      "\n",
      "Title: Nokia G42 5G Powered by Snapdragon® 480 Plus 5G | 50MP Triple Rear AI Camera | 6GB RAM (4GB RAM + 2GB Virtual RAM) | 128GB Storage | 3-day Battery Life | 2 Years of Android Upgrades | SO Purple\n",
      "Price: <selenium.webdriver.remote.webelement.WebElement (session=\"29f2ff7d888aff0b89aff25c2fe8a3f0\", element=\"f.6F647086FBEF57F3E6DD4DDFF7F0934A.d.C9D41F219984081C8AC438538C5C8A96.e.351\")>\n",
      "\n",
      "Title: Redmi 13C (Starfrost White, 4GB RAM, 128GB Storage) | Powered by 4G MediaTek Helio G85 | 90Hz Display | 50MP AI Triple Camera\n",
      "Price: <selenium.webdriver.remote.webelement.WebElement (session=\"29f2ff7d888aff0b89aff25c2fe8a3f0\", element=\"f.6F647086FBEF57F3E6DD4DDFF7F0934A.d.C9D41F219984081C8AC438538C5C8A96.e.353\")>\n",
      "\n",
      "Title: realme NARZO N63 (Twilight Purple,4GB RAM+64GB Storage) 45W Fast Charge | 5000mAh Durable Battery | 7.74mm Ultra Slim | 50MP AI Camera | AI Boost\n",
      "Price: <selenium.webdriver.remote.webelement.WebElement (session=\"29f2ff7d888aff0b89aff25c2fe8a3f0\", element=\"f.6F647086FBEF57F3E6DD4DDFF7F0934A.d.C9D41F219984081C8AC438538C5C8A96.e.355\")>\n",
      "\n",
      "Title: Redmi 12 5G Jade Black 6GB RAM 128GB ROM\n",
      "Price: <selenium.webdriver.remote.webelement.WebElement (session=\"29f2ff7d888aff0b89aff25c2fe8a3f0\", element=\"f.6F647086FBEF57F3E6DD4DDFF7F0934A.d.C9D41F219984081C8AC438538C5C8A96.e.357\")>\n",
      "\n",
      "Title: Redmi 13C (Starshine Green, 6GB RAM, 128GB Storage) | Powered by 4G MediaTek Helio G85 | 90Hz Display | 50MP AI Triple Camera\n",
      "Price: <selenium.webdriver.remote.webelement.WebElement (session=\"29f2ff7d888aff0b89aff25c2fe8a3f0\", element=\"f.6F647086FBEF57F3E6DD4DDFF7F0934A.d.C9D41F219984081C8AC438538C5C8A96.e.359\")>\n",
      "\n",
      "Title: Redmi 12 5G Moonstone Silver 6GB RAM 128GB ROM\n",
      "Price: <selenium.webdriver.remote.webelement.WebElement (session=\"29f2ff7d888aff0b89aff25c2fe8a3f0\", element=\"f.6F647086FBEF57F3E6DD4DDFF7F0934A.d.C9D41F219984081C8AC438538C5C8A96.e.361\")>\n",
      "\n",
      "Title: Redmi 13C (Starfrost White, 6GB RAM, 128GB Storage) | Powered by 4G MediaTek Helio G85 | 90Hz Display | 50MP AI Triple Camera\n",
      "Price: <selenium.webdriver.remote.webelement.WebElement (session=\"29f2ff7d888aff0b89aff25c2fe8a3f0\", element=\"f.6F647086FBEF57F3E6DD4DDFF7F0934A.d.C9D41F219984081C8AC438538C5C8A96.e.363\")>\n",
      "\n",
      "Title: Samsung Galaxy S24 Ultra 5G AI Smartphone (Titanium Gray, 12GB, 1TB Storage)\n",
      "Price: <selenium.webdriver.remote.webelement.WebElement (session=\"29f2ff7d888aff0b89aff25c2fe8a3f0\", element=\"f.6F647086FBEF57F3E6DD4DDFF7F0934A.d.C9D41F219984081C8AC438538C5C8A96.e.365\")>\n",
      "\n",
      "Title: Apple iPhone 15 Pro (128 GB) - Blue Titanium\n",
      "Price: <selenium.webdriver.remote.webelement.WebElement (session=\"29f2ff7d888aff0b89aff25c2fe8a3f0\", element=\"f.6F647086FBEF57F3E6DD4DDFF7F0934A.d.C9D41F219984081C8AC438538C5C8A96.e.367\")>\n",
      "\n"
     ]
    }
   ],
   "source": [
    "for product in products:\n",
    "    title = product.find_element(By.XPATH,'.//span[@class=\"a-size-medium a-color-base a-text-normal\"]').text\n",
    "    try:\n",
    "        price=product.find_element(By.XPATH,'.//span[@class=\"a-price-whole\"]')\n",
    "    except:\n",
    "        price=\"Price not available\"\n",
    "    print(f\"Title: {title}\\nPrice: {price}\\n\")"
   ]
  },
  {
   "cell_type": "code",
   "execution_count": 45,
   "id": "39786417-ee8a-42cb-97d4-db6ce788968a",
   "metadata": {},
   "outputs": [],
   "source": [
    "driver.quit()"
   ]
  },
  {
   "cell_type": "code",
   "execution_count": null,
   "id": "430b1c13-9ae2-4484-974f-d07ac736f1ee",
   "metadata": {},
   "outputs": [],
   "source": []
  }
 ],
 "metadata": {
  "kernelspec": {
   "display_name": "Python 3 (ipykernel)",
   "language": "python",
   "name": "python3"
  },
  "language_info": {
   "codemirror_mode": {
    "name": "ipython",
    "version": 3
   },
   "file_extension": ".py",
   "mimetype": "text/x-python",
   "name": "python",
   "nbconvert_exporter": "python",
   "pygments_lexer": "ipython3",
   "version": "3.11.7"
  }
 },
 "nbformat": 4,
 "nbformat_minor": 5
}
